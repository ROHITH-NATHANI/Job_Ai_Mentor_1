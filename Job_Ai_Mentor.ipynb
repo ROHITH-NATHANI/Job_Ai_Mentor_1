{
 "cells": [
  {
   "cell_type": "markdown",
   "metadata": {},
   "source": [
    "![image](https://raw.githubusercontent.com/IBM/watson-machine-learning-samples/master/cloud/notebooks/headers/watsonx-Prompt_Lab-Notebook.png)\n",
    "# Agents Lab Notebook v1.0.0\n",
    "This notebook contains steps and code to demonstrate the use of agents\n",
    "configured in Agent Lab in watsonx.ai. It introduces Python API commands\n",
    "for authentication using API key and invoking a LangGraph agent with a watsonx chat model.\n",
    "\n",
    "**Note:** Notebook code generated using Agent Lab will execute successfully.\n",
    "If code is modified or reordered, there is no guarantee it will successfully execute.\n",
    "For details, see: <a href=\"/docs/content/wsj/analyze-data/fm-prompt-save.html?context=wx\" target=\"_blank\">Saving your work in Agent Lab as a notebook.</a>\n",
    "\n",
    "Some familiarity with Python is helpful. This notebook uses Python 3.11.\n",
    "\n",
    "## Notebook goals\n",
    "The learning goals of this notebook are:\n",
    "\n",
    "* Defining a Python function for obtaining credentials from the IBM Cloud personal API key\n",
    "* Creating an agent with a set of tools using a specified model and parameters\n",
    "* Invoking the agent to generate a response \n",
    "\n",
    "# Setup"
   ]
  },
  {
   "cell_type": "code",
   "execution_count": 4,
   "metadata": {},
   "outputs": [],
   "source": [
    "# import dependencies\n",
    "from langchain_ibm import ChatWatsonx\n",
    "from ibm_watsonx_ai import APIClient\n",
    "from langchain_core.messages import AIMessage, HumanMessage\n",
    "from langgraph.checkpoint.memory import MemorySaver\n",
    "from langgraph.prebuilt import create_react_agent\n",
    "from ibm_watsonx_ai.foundation_models.utils import Tool, Toolkit\n",
    "import json\n",
    "import requests"
   ]
  },
  {
   "cell_type": "markdown",
   "metadata": {},
   "source": [
    "## watsonx API connection\n",
    "This cell defines the credentials required to work with watsonx API for Foundation\n",
    "Model inferencing.\n",
    "\n",
    "**Action:** Provide the IBM Cloud personal API key. For details, see\n",
    "<a href=\"https://cloud.ibm.com/docs/account?topic=account-userapikey&interface=ui\" target=\"_blank\">documentation</a>.\n"
   ]
  },
  {
   "cell_type": "code",
   "execution_count": 5,
   "metadata": {},
   "outputs": [],
   "source": [
    "import os\n",
    "import getpass\n",
    "\n",
    "def get_credentials():\n",
    "\treturn {\n",
    "\t\t\"url\" : \"https://us-south.ml.cloud.ibm.com\",\n",
    "\t\t\"apikey\" : getpass.getpass(\"Please enter your api key (hit enter): \")\n",
    "\t}\n",
    "\n",
    "def get_bearer_token():\n",
    "    url = \"https://iam.cloud.ibm.com/identity/token\"\n",
    "    headers = {\"Content-Type\": \"application/x-www-form-urlencoded\"}\n",
    "    data = f\"grant_type=urn:ibm:params:oauth:grant-type:apikey&apikey={credentials['apikey']}\"\n",
    "\n",
    "    response = requests.post(url, headers=headers, data=data)\n",
    "    return response.json().get(\"access_token\")\n",
    "\n",
    "credentials = get_credentials()"
   ]
  },
  {
   "cell_type": "markdown",
   "metadata": {},
   "source": [
    "# Using the agent\n",
    "These cells demonstrate how to create and invoke the agent\n",
    "with the selected models, tools, and parameters.\n",
    "\n",
    "## Defining the model id\n",
    "We need to specify model id that will be used for inferencing:"
   ]
  },
  {
   "cell_type": "code",
   "execution_count": 6,
   "metadata": {},
   "outputs": [],
   "source": [
    "model_id = \"meta-llama/llama-3-3-70b-instruct\""
   ]
  },
  {
   "cell_type": "markdown",
   "metadata": {},
   "source": [
    "## Defining the model parameters\n",
    "We need to provide a set of model parameters that will influence the\n",
    "result:"
   ]
  },
  {
   "cell_type": "code",
   "execution_count": 7,
   "metadata": {},
   "outputs": [],
   "source": [
    "parameters = {\n",
    "    \"frequency_penalty\": 0,\n",
    "    \"max_tokens\": 2000,\n",
    "    \"presence_penalty\": 0,\n",
    "    \"temperature\": 0,\n",
    "    \"top_p\": 1\n",
    "}"
   ]
  },
  {
   "cell_type": "markdown",
   "metadata": {},
   "source": [
    "## Defining the project id or space id\n",
    "The API requires project id or space id that provides the context for the call. We will obtain\n",
    "the id from the project or space in which this notebook runs:"
   ]
  },
  {
   "cell_type": "code",
   "execution_count": 8,
   "metadata": {},
   "outputs": [],
   "source": [
    "project_id = os.getenv(\"PROJECT_ID\")\n",
    "space_id = os.getenv(\"SPACE_ID\")\n"
   ]
  },
  {
   "cell_type": "markdown",
   "metadata": {},
   "source": [
    "## Creating the agent\n",
    "We need to create the agent using the properties we defined so far:"
   ]
  },
  {
   "cell_type": "code",
   "execution_count": 9,
   "metadata": {},
   "outputs": [],
   "source": [
    "client = APIClient(credentials=credentials, project_id=project_id, space_id=space_id)\n",
    "\n",
    "project_id = \"c01d2087-8c7d-4175-940f-219c5ae232a7\"\n",
    "\n",
    "# Create the chat model\n",
    "def create_chat_model():\n",
    "    chat_model = ChatWatsonx(\n",
    "        model_id=model_id,\n",
    "        url=credentials[\"url\"],\n",
    "        space_id=space_id,\n",
    "        project_id=project_id,\n",
    "        params=parameters,\n",
    "        watsonx_client=client,\n",
    "    )\n",
    "    return chat_model"
   ]
  },
  {
   "cell_type": "code",
   "execution_count": 10,
   "metadata": {},
   "outputs": [],
   "source": [
    "from ibm_watsonx_ai import APIClient"
   ]
  },
  {
   "cell_type": "code",
   "execution_count": 12,
   "metadata": {},
   "outputs": [],
   "source": [
    "from ibm_watsonx_ai.deployments import RuntimeContext\n",
    "\n",
    "context = RuntimeContext(api_client=client)\n",
    "\n",
    "\n",
    "\n",
    "\n",
    "def create_utility_agent_tool(tool_name, params, api_client, **kwargs):\n",
    "    from langchain_core.tools import StructuredTool\n",
    "    utility_agent_tool = Toolkit(\n",
    "        api_client=api_client\n",
    "    ).get_tool(tool_name)\n",
    "\n",
    "    tool_description = utility_agent_tool.get(\"description\")\n",
    "\n",
    "    if (kwargs.get(\"tool_description\")):\n",
    "        tool_description = kwargs.get(\"tool_description\")\n",
    "    elif (utility_agent_tool.get(\"agent_description\")):\n",
    "        tool_description = utility_agent_tool.get(\"agent_description\")\n",
    "    \n",
    "    tool_schema = utility_agent_tool.get(\"input_schema\")\n",
    "    if (tool_schema == None):\n",
    "        tool_schema = {\n",
    "            \"type\": \"object\",\n",
    "            \"additionalProperties\": False,\n",
    "            \"$schema\": \"http://json-schema.org/draft-07/schema#\",\n",
    "            \"properties\": {\n",
    "                \"input\": {\n",
    "                    \"description\": \"input for the tool\",\n",
    "                    \"type\": \"string\"\n",
    "                }\n",
    "            }\n",
    "        }\n",
    "    \n",
    "    def run_tool(**tool_input):\n",
    "        query = tool_input\n",
    "        if (utility_agent_tool.get(\"input_schema\") == None):\n",
    "            query = tool_input.get(\"input\")\n",
    "\n",
    "        results = utility_agent_tool.run(\n",
    "            input=query,\n",
    "            config=params\n",
    "        )\n",
    "        \n",
    "        return results.get(\"output\")\n",
    "    \n",
    "    return StructuredTool(\n",
    "        name=tool_name,\n",
    "        description = tool_description,\n",
    "        func=run_tool,\n",
    "        args_schema=tool_schema\n",
    "    )\n",
    "\n",
    "\n",
    "def create_custom_tool(tool_name, tool_description, tool_code, tool_schema, tool_params):\n",
    "    from langchain_core.tools import StructuredTool\n",
    "    import ast\n",
    "\n",
    "    def call_tool(**kwargs):\n",
    "        tree = ast.parse(tool_code, mode=\"exec\")\n",
    "        custom_tool_functions = [ x for x in tree.body if isinstance(x, ast.FunctionDef) ]\n",
    "        function_name = custom_tool_functions[0].name\n",
    "        compiled_code = compile(tree, 'custom_tool', 'exec')\n",
    "        namespace = tool_params if tool_params else {}\n",
    "        exec(compiled_code, namespace)\n",
    "        return namespace[function_name](**kwargs)\n",
    "        \n",
    "    tool = StructuredTool(\n",
    "        name=tool_name,\n",
    "        description = tool_description,\n",
    "        func=call_tool,\n",
    "        args_schema=tool_schema\n",
    "    )\n",
    "    return tool\n",
    "\n",
    "def create_custom_tools():\n",
    "    custom_tools = []\n",
    "\n",
    "\n",
    "def create_tools(context):\n",
    "    tools = []\n",
    "    \n",
    "    config = None\n",
    "    tools.append(create_utility_agent_tool(\"GoogleSearch\", config, client))\n",
    "\n",
    "    return tools"
   ]
  },
  {
   "cell_type": "markdown",
   "metadata": {},
   "source": [
    "## Invoking the agent\n",
    "Let us now use the created agent, pair it with the input, and generate the response to your question:\n",
    "## Invoking the agent\n",
    "Let us now use the created agent, pair it with the input, and generate the response to your question:"
   ]
  },
  {
   "cell_type": "code",
   "execution_count": 17,
   "metadata": {},
   "outputs": [
    {
     "name": "stdout",
     "output_type": "stream",
     "text": [
      "Are you an informal worker (e.g., gig worker, daily wage earner, apprentice, micro-entrepreneur, migrant, rural, or without formal documentation)?\n",
      "Please answer the following to help find the best opportunities for you:\n",
      "Agent: Based on the search results, here are some job opportunities for delivery workers in Vijayawada with cash payment and local language support:\n",
      "\n",
      "1. **Uber Driver**: Uber is hiring drivers in Vijayawada. You can earn money by delivering food and packages to customers. You can apply through the Uber app or website.\n",
      "2. **Porter Driver Partner**: Porter is a logistics company that hires drivers to deliver packages and goods. You can earn money by renting or hiring your vehicle and delivering packages to customers.\n",
      "3. **FedEx Courier**: FedEx is a global logistics company that hires couriers to deliver packages and goods. You can earn money by delivering packages to customers in Vijayawada.\n",
      "4. **Instacart Delivery**: Instacart is a grocery delivery company that hires delivery workers to deliver groceries to customers. You can earn money by delivering groceries to customers in Vijayawada.\n",
      "\n",
      "These opportunities offer cash payment and local language support. However, please note that some of these opportunities may require you to have a vehicle or a smartphone.\n",
      "\n",
      "Additionally, you can also search for government schemes and social security benefits for informal workers in Vijayawada. Some resources include:\n",
      "\n",
      "* **National Career Service**: This is a government website that provides information on job opportunities, career guidance, and skill development programs.\n",
      "* **Ministry of Labour and Employment**: This is a government website that provides information on labor laws, social security schemes, and employment opportunities.\n",
      "* **Vijayawada Municipal Corporation**: This is a local government website that provides information on municipal services, including employment opportunities and social security schemes.\n",
      "\n",
      "I hope this information helps you find a job opportunity that suits your needs.\n"
     ]
    }
   ],
   "source": [
    "# ...existing code...\n",
    "def create_agent(context):\n",
    "    # Initialize the agent\n",
    "    chat_model = create_chat_model()\n",
    "    tools = create_tools(context)\n",
    "\n",
    "    memory = MemorySaver()\n",
    "    # Instructions for the agent\n",
    "    instructions = \"\"\"# Notes\n",
    "- Use markdown syntax for formatting code snippets, links, JSON, tables, images, files.\n",
    "- Any HTML tags must be wrapped in block quotes, for example ```<html>```.\n",
    "- When returning code blocks, specify language.\n",
    "- Sometimes, things don't go as planned. Tools may not provide useful information on the first few tries. You should always try a few different approaches before declaring the problem unsolvable.\n",
    "- When the tool doesn't give you what you were asking for, you must either use another tool or a different tool input.\n",
    "- When using search engines, you try different formulations of the query, possibly even in a different language.\n",
    "- You cannot do complex calculations, computations, or data manipulations without using tools.\n",
    "- If you need to call a tool to compute something, always call it instead of saying you will call it.\n",
    "\n",
    "If a tool returns an IMAGE in the result, you must include it in your answer as Markdown.\n",
    "\n",
    "Example:\n",
    "\n",
    "Tool result: IMAGE({commonApiUrl}/wx/v1-beta/utility_agent_tools/cache/images/plt-04e3c91ae04b47f8934a4e6b7d1fdc2c.png)\n",
    "Markdown to return to user: ![Generated image]({commonApiUrl}/wx/v1-beta/utility_agent_tools/cache/images/plt-04e3c91ae04b47f8934a4e6b7d1fdc2c.png)\n",
    "\n",
    "You are 'Udyog-Mitra AI', a personal and confidential AI career mentor. Your primary purpose is to connect users with personalized job opportunities, skill development programs, and career growth resources.\n",
    "\n",
    "If the user is an informal worker (e.g., gig worker, daily wage earner, apprentice, micro-entrepreneur, migrant, rural, or without formal documentation), you MUST:\n",
    "- Use simple, clear language.\n",
    "- Ask for their work type (e.g., \"construction,\" \"delivery,\" \"tailoring,\" \"agriculture,\" etc.).\n",
    "- Ask about their location, preferred work hours, and if they need cash payments or local language support.\n",
    "- Ask if they want information on government schemes, social security, or skill workshops.\n",
    "- Suggest jobs that do not require formal degrees or digital literacy.\n",
    "- Highlight support for migrant/rural workers and those without documentation.\n",
    "\n",
    "When a user submits a query for opportunities, you MUST ask for the following details if they are missing, to ensure your recommendations are precise and relevant:\n",
    "\n",
    "Profession or Field of Interest: What is the exact role or industry? (e.g., \"Software Development,\" \"Digital Marketing,\" \"Mechanical Engineering,\" \"Retail Management\").\n",
    "\n",
    "Experience Level: What is the user's current professional stage? (e.g., \"Student looking for internship,\" \"Fresher (0-1 year),\" \"Mid-Level (3-5 years),\" \"Senior/Managerial Level\").\n",
    "\n",
    "Key Skills or Qualifications: What specific skills or degrees do they possess? (e.g., \"B.Tech in Computer Science,\" \"Certified in Google Analytics,\" \"Proficient in Python and SQL,\" \"MBA in Finance\").\n",
    "\n",
    "Type of Opportunity Sought: What kind of opportunity are they looking for? (e.g., \"Full-time Job,\" \"Remote Work,\" \"Paid Internship,\" \"Skill Certification Course,\" \"Networking Event\").\n",
    "\n",
    "Once you have all the necessary information, generate a prioritized list of recommended opportunities. For each recommended item, you MUST provide:\n",
    "\n",
    "Opportunity Title, Company/Provider, and Posting Date.\n",
    "\n",
    "A brief summary explaining its relevance to the user's profile, skills, and career goals.\n",
    "\n",
    "Opportunity Type (e.g., \"Full-time Job,\" \"Professional Certification,\" \"Freelance Project,\" \"Industry Webinar\").\n",
    "\n",
    "Live Status: Clearly state if it is \"Actively Hiring (Apply by [Date]),\" \"Applications Closed (Check back later),\" or \"Course Enrolment Open (Seats filling fast).\"\n",
    "\n",
    "A clear call-to-action, such as an option to \"Apply Now,\" \"Save Job,\" or \"Register for Course.\"\n",
    "\n",
    "# Additional Features for Best Answers\n",
    "- Always cite the source or reference for each opportunity, if available.\n",
    "- Highlight unique benefits or perks (e.g., remote work, flexible hours, international exposure).\n",
    "- Suggest related opportunities or alternative career paths if relevant.\n",
    "- Provide links to further resources (e.g., company website, course details, application page).\n",
    "- If the user requests, offer tips for application success or interview preparation.\n",
    "- Summarize the top 3 opportunities in a comparison table for easy review.\n",
    "- If possible, include salary range or compensation details.\n",
    "- Indicate if opportunities support diversity, inclusion, or special groups (e.g., women, persons with disabilities).\n",
    "\n",
    "# Additional Features for Informal Workers\n",
    "- Mention opportunities for gig work, daily wage jobs, apprenticeships, or micro-entrepreneurship.\n",
    "- Highlight government schemes, social security benefits, or financial inclusion programs relevant to informal workers.\n",
    "- Provide information on skill development workshops, local training centers, or upskilling for informal sectors.\n",
    "- Suggest resources for legal rights, workplace safety, and social protection.\n",
    "- Indicate if opportunities offer flexible hours, cash payments, or local language support.\n",
    "- Include tips for accessing jobs without formal degrees or digital literacy.\n",
    "- Mention support for migrant workers, rural workers, or those without formal documentation.\n",
    "\"\"\"\n",
    "\n",
    "    agent = create_react_agent(chat_model, tools=tools, checkpointer=memory)\n",
    "    return agent, instructions\n",
    "\n",
    "# Usage example:\n",
    "agent, instructions = create_agent(context)\n",
    "\n",
    "def convert_messages(messages):\n",
    "    converted_messages = []\n",
    "    for message in messages:\n",
    "        if (message[\"role\"] == \"user\"):\n",
    "            converted_messages.append(HumanMessage(content=message[\"content\"]))\n",
    "        elif (message[\"role\"] == \"assistant\"):\n",
    "            converted_messages.append(AIMessage(content=message[\"content\"]))\n",
    "    return converted_messages\n",
    "\n",
    "# Prompt for informal worker context\n",
    "print(\"Are you an informal worker (e.g., gig worker, daily wage earner, apprentice, micro-entrepreneur, migrant, rural, or without formal documentation)?\")\n",
    "is_informal = input(\"Type 'yes' or 'no': \").strip().lower()\n",
    "\n",
    "if is_informal == \"yes\":\n",
    "    print(\"Please answer the following to help find the best opportunities for you:\")\n",
    "    work_type = input(\"What type of work do you do or want to do? (e.g., construction, delivery, tailoring, agriculture): \")\n",
    "    location = input(\"What is your location or preferred work area?: \")\n",
    "    hours = input(\"Do you prefer flexible hours or fixed timings?: \")\n",
    "    cash_payment = input(\"Do you need cash payments or local language support? (yes/no): \")\n",
    "    gov_info = input(\"Do you want information on government schemes, social security, or skill workshops? (yes/no): \")\n",
    "    question = f\"I am an informal worker. Work type: {work_type}. Location: {location}. Hours: {hours}. Cash payment/local language: {cash_payment}. Info on government schemes: {gov_info}.\"\n",
    "else:\n",
    "    question = input(\"Question: \")\n",
    "\n",
    "messages = [\n",
    "    {\"role\": \"user\", \"content\": instructions + \"\\n\" + question}\n",
    "]\n",
    "\n",
    "generated_response = agent.invoke(\n",
    "    { \"messages\": convert_messages(messages) },\n",
    "    { \"configurable\": { \"thread_id\": \"42\" } }\n",
    ")\n",
    "\n",
    "print_full_response = False\n",
    "\n",
    "if (print_full_response):\n",
    "    print(generated_response)\n",
    "else:\n",
    "    result = generated_response[\"messages\"][-1].content\n",
    "    print(f\"Agent: {result}\")\n",
    "# ...existing"
   ]
  },
  {
   "cell_type": "code",
   "execution_count": 30,
   "metadata": {},
   "outputs": [],
   "source": [
    "from langchain_core.messages import HumanMessage, AIMessage"
   ]
  },
  {
   "cell_type": "code",
   "execution_count": 25,
   "metadata": {},
   "outputs": [],
   "source": [
    "from langgraph.prebuilt import create_react_agent"
   ]
  },
  {
   "cell_type": "code",
   "execution_count": 23,
   "metadata": {},
   "outputs": [],
   "source": [
    "from langgraph.checkpoint.memory import MemorySaver"
   ]
  },
  {
   "cell_type": "code",
   "execution_count": 21,
   "metadata": {},
   "outputs": [],
   "source": [
    "from ibm_watsonx_ai.foundation_models.utils import Toolkit"
   ]
  },
  {
   "cell_type": "code",
   "execution_count": 19,
   "metadata": {},
   "outputs": [],
   "source": [
    "from langchain_ibm import ChatWatsonx"
   ]
  },
  {
   "cell_type": "markdown",
   "metadata": {},
   "source": [
    "# Next steps\n",
    "You successfully completed this notebook! You learned how to use\n",
    "watsonx.ai inferencing SDK to generate response from the foundation model\n",
    "based on the provided input, model id and model parameters. Check out the\n",
    "official watsonx.ai site for more samples, tutorials, documentation, how-tos, and blog posts.\n",
    "\n",
    "<a id=\"copyrights\"></a>\n",
    "### Copyrights\n",
    "\n",
    "Licensed Materials - Copyright © 2024 IBM. This notebook and its source code are released under the terms of the ILAN License.\n",
    "Use, duplication disclosure restricted by GSA ADP Schedule Contract with IBM Corp.\n",
    "\n",
    "**Note:** The auto-generated notebooks are subject to the International License Agreement for Non-Warranted Programs (or equivalent) and License Information document for watsonx.ai Auto-generated Notebook (License Terms), such agreements located in the link below. Specifically, the Source Components and Sample Materials clause included in the License Information document for watsonx.ai Studio Auto-generated Notebook applies to the auto-generated notebooks.  \n",
    "\n",
    "By downloading, copying, accessing, or otherwise using the materials, you agree to the <a href=\"https://www14.software.ibm.com/cgi-bin/weblap/lap.pl?li_formnum=L-AMCU-BYC7LF\" target=\"_blank\">License Terms</a>  "
   ]
  }
 ],
 "metadata": {
  "kernelspec": {
   "display_name": "Python 3",
   "language": "python",
   "name": "python3"
  },
  "language_info": {
   "codemirror_mode": {
    "name": "ipython",
    "version": 3
   },
   "file_extension": ".py",
   "mimetype": "text/x-python",
   "name": "python",
   "nbconvert_exporter": "python",
   "pygments_lexer": "ipython3",
   "version": "3.12.6"
  }
 },
 "nbformat": 4,
 "nbformat_minor": 0
}
